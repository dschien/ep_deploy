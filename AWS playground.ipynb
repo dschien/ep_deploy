{
 "cells": [
  {
   "cell_type": "code",
   "execution_count": 1,
   "metadata": {},
   "outputs": [],
   "source": [
    "from fabric.api import *\n",
    "import os, time, boto\n",
    "import ConfigParser\n",
    "import boto.ec2\n",
    "CONFIG_FILE = \"ep.cfg\"\n",
    "\n",
    "ep_ubuntu_14_04 = \"i-9bbddd22\"\n",
    "\n",
    "config = ConfigParser.RawConfigParser()"
   ]
  },
  {
   "cell_type": "code",
   "execution_count": 2,
   "metadata": {},
   "outputs": [
    {
     "data": {
      "text/plain": [
       "['ep.cfg']"
      ]
     },
     "execution_count": 2,
     "output_type": "execute_result",
     "metadata": {}
    }
   ],
   "source": [
    "config.read(CONFIG_FILE)"
   ]
  },
  {
   "cell_type": "code",
   "execution_count": 3,
   "metadata": {},
   "outputs": [],
   "source": [
    "MY_AMI = config.get('ec2', 'AMI')\n",
    "SECURITY_GROUP = config.get('ec2', 'SECURITY_GROUP')\n",
    "KEY_PATH = config.get('ec2', 'KEY_PATH')\n",
    "INSTANCE_TYPE = config.get('ec2', 'INSTANCE_TYPE')\n",
    "\n",
    "os.environ[\"AWS_ACCESS_KEY_ID\"] = config.get('ec2', 'AWS_ACCESS_KEY_ID')\n",
    "os.environ[\"AWS_SECRET_ACCESS_KEY\"] = config.get('ec2', 'AWS_SECRET_ACCESS_KEY')\n",
    "\n",
    "host = None\n",
    "try:\n",
    "    host = config.get('ec2', 'HOST')\n",
    "except:\n",
    "    pass"
   ]
  },
  {
   "cell_type": "code",
   "execution_count": 60,
   "metadata": {},
   "outputs": [
    {
     "data": {
      "text/plain": [
       "'ami-47a23a30'"
      ]
     },
     "execution_count": 60,
     "output_type": "execute_result",
     "metadata": {}
    }
   ],
   "source": [
    "MY_AMI"
   ]
  },
  {
   "cell_type": "code",
   "execution_count": 61,
   "metadata": {},
   "outputs": [],
   "source": [
    "if host is not None and host != '':\n",
    "    env.hosts = [host, ]\n",
    "    env.user = config.get('ec2', 'USER')\n",
    "    env.key_filename = KEY_PATH\n",
    "    print \"Instance already created, using it: %s\" % host"
   ]
  },
  {
   "cell_type": "code",
   "execution_count": 5,
   "metadata": {},
   "outputs": [
    {
     "data": {
      "text/plain": [
       "'2.38.0'"
      ]
     },
     "execution_count": 5,
     "output_type": "execute_result",
     "metadata": {}
    }
   ],
   "source": [
    "boto.Version"
   ]
  },
  {
   "cell_type": "code",
   "execution_count": 7,
   "metadata": {},
   "outputs": [
    {
     "ename": "NameError",
     "evalue": "name 'my_ip' is not defined",
     "output_type": "error",
     "traceback": [
      "\u001b[0;31m---------------------------------------------------------------------------\u001b[0m",
      "\u001b[0;31mNameError\u001b[0m                                 Traceback (most recent call last)",
      "\u001b[0;32m<ipython-input-7-8260da3966fe>\u001b[0m in \u001b[0;36m<module>\u001b[0;34m()\u001b[0m\n\u001b[1;32m      9\u001b[0m     \u001b[0;32mpass\u001b[0m\u001b[0;34m\u001b[0m\u001b[0m\n\u001b[1;32m     10\u001b[0m \u001b[0;32mtry\u001b[0m\u001b[0;34m:\u001b[0m\u001b[0;34m\u001b[0m\u001b[0m\n\u001b[0;32m---> 11\u001b[0;31m     \u001b[0;34m[\u001b[0m\u001b[0mown_cidr_ip_grant\u001b[0m\u001b[0;34m]\u001b[0m \u001b[0;34m=\u001b[0m \u001b[0;34m[\u001b[0m\u001b[0mrule\u001b[0m \u001b[0;32mfor\u001b[0m \u001b[0mrule\u001b[0m \u001b[0;32min\u001b[0m \u001b[0mep_group\u001b[0m\u001b[0;34m.\u001b[0m\u001b[0mrules\u001b[0m \u001b[0;32mif\u001b[0m \u001b[0mrule\u001b[0m\u001b[0;34m.\u001b[0m\u001b[0mgrants\u001b[0m\u001b[0;34m[\u001b[0m\u001b[0;36m0\u001b[0m\u001b[0;34m]\u001b[0m\u001b[0;34m.\u001b[0m\u001b[0mcidr_ip\u001b[0m \u001b[0;34m==\u001b[0m \u001b[0mmy_ip\u001b[0m\u001b[0;34m+\u001b[0m\u001b[0;34m'/32'\u001b[0m\u001b[0;34m]\u001b[0m\u001b[0;34m\u001b[0m\u001b[0m\n\u001b[0m\u001b[1;32m     12\u001b[0m \u001b[0;32mexcept\u001b[0m \u001b[0mValueError\u001b[0m\u001b[0;34m:\u001b[0m\u001b[0;34m\u001b[0m\u001b[0m\n\u001b[1;32m     13\u001b[0m     \u001b[0;32mraise\u001b[0m \u001b[0mValueError\u001b[0m\u001b[0;34m(\u001b[0m\u001b[0;34m'no rule for TCP/22 with own IP found in security group: %s'\u001b[0m \u001b[0;34m%\u001b[0m \u001b[0mSECURITY_GROUP\u001b[0m\u001b[0;34m)\u001b[0m\u001b[0;34m\u001b[0m\u001b[0m\n",
      "\u001b[0;31mNameError\u001b[0m: name 'my_ip' is not defined"
     ]
    }
   ],
   "source": [
    "conn = boto.ec2.connect_to_region('eu-west-1')\n",
    "image = conn.get_image(MY_AMI)\n",
    "security_groups = conn.get_all_security_groups()\n",
    "\n",
    "# check ssh access from own IP is allowed\n",
    "try:\n",
    "    [ep_group] = [x for x in security_groups if x.name == SECURITY_GROUP]\n",
    "except ValueError:\n",
    "    pass\n",
    "try:\n",
    "    [own_cidr_ip_grant] = [rule for rule in ep_group.rules if rule.grants[0].cidr_ip == my_ip+'/32']\n",
    "except ValueError:\n",
    "    raise ValueError('no rule for TCP/22 with own IP found in security group: %s' % SECURITY_GROUP)"
   ]
  },
  {
   "cell_type": "code",
   "execution_count": 65,
   "metadata": {},
   "outputs": [
    {
     "data": {
      "text/plain": [
       "SecurityGroup:default"
      ]
     },
     "execution_count": 65,
     "output_type": "execute_result",
     "metadata": {}
    }
   ],
   "source": [
    "try:\n",
    "    [own_cidr_ip_grant] = [rule for rule in ep_group.rules if rule.grants[0].cidr_ip == my_ip+'/32']\n",
    "except ValueError:\n",
    "    raise ValueError('no rule for TCP/22 with own IP found in security group: %s' % SECURITY_GROUP)"
   ]
  },
  {
   "cell_type": "code",
   "execution_count": 63,
   "metadata": {},
   "outputs": [
    {
     "data": {
      "text/plain": [
       "'default'"
      ]
     },
     "execution_count": 63,
     "output_type": "execute_result",
     "metadata": {}
    }
   ],
   "source": [
    "SECURITY_GROUP"
   ]
  },
  {
   "cell_type": "code",
   "execution_count": 64,
   "metadata": {},
   "outputs": [
    {
     "data": {
      "text/plain": [
       "[SecurityGroup:rds-launch-wizard, SecurityGroup:default]"
      ]
     },
     "execution_count": 64,
     "output_type": "execute_result",
     "metadata": {}
    }
   ],
   "source": [
    "security_groups"
   ]
  },
  {
   "cell_type": "code",
   "execution_count": 50,
   "metadata": {},
   "outputs": [
    {
     "name": "stdout",
     "output_type": "stream",
     "text": [
      "found rule for my IP\n",
      "tcp 22 22 [62.30.221.21/32]\n"
     ]
    }
   ],
   "source": [
    "for group in security_groups:\n",
    "    if group.name == 'default':\n",
    "    #     print group.rules\n",
    "        for rule in group.rules:\n",
    "#             print rule\n",
    "            if rule.grants[0].cidr_ip == my_ip+'/32':\n",
    "                print \"found rule for my IP\"\n",
    "                print rule.ip_protocol, rule.from_port, rule.to_port, rule.grants"
   ]
  },
  {
   "cell_type": "code",
   "execution_count": 42,
   "metadata": {},
   "outputs": [
    {
     "data": {
      "text/plain": [
       "True"
      ]
     },
     "execution_count": 42,
     "output_type": "execute_result",
     "metadata": {}
    }
   ],
   "source": [
    "security_groups[1].authorize('tcp', 22, 22, my_ip+'/32')"
   ]
  },
  {
   "cell_type": "code",
   "execution_count": 37,
   "metadata": {},
   "outputs": [],
   "source": [
    "from urllib import urlopen\n",
    "import re\n",
    "def getPublicIp():\n",
    "    data = str(urlopen('http://checkip.dyndns.com/').read())\n",
    "    # data = '<html><head><title>Current IP Check</title></head><body>Current IP Address: 65.96.168.198</body></html>\\r\\n'\n",
    "\n",
    "    return re.compile(r'Address: (\\d+\\.\\d+\\.\\d+\\.\\d+)').search(data).group(1)"
   ]
  },
  {
   "cell_type": "code",
   "execution_count": 41,
   "metadata": {},
   "outputs": [],
   "source": [
    "my_ip = getPublicIp()"
   ]
  },
  {
   "cell_type": "code",
   "execution_count": 67,
   "metadata": {},
   "outputs": [],
   "source": [
    "env.own_ip  = getPublicIp()"
   ]
  },
  {
   "cell_type": "code",
   "execution_count": 73,
   "metadata": {},
   "outputs": [],
   "source": [
    "\"\"\"\n",
    "Check the instance security rule allows connection via SSL/22 from my IP\n",
    "If it does not, add a new rule\n",
    ":return:\n",
    "\"\"\"\n",
    "\n",
    "config = ConfigParser.RawConfigParser()\n",
    "config.read(CONFIG_FILE)\n",
    "\n",
    "MY_AMI = config.get('ec2', 'AMI')\n",
    "SECURITY_GROUP = config.get('ec2', 'SECURITY_GROUP')\n",
    "KEY_PATH = config.get('ec2', 'KEY_PATH')\n",
    "INSTANCE_TYPE = config.get('ec2', 'INSTANCE_TYPE')\n",
    "REGION = config.get('ec2', 'REGION')\n",
    "\n",
    "os.environ[\"AWS_ACCESS_KEY_ID\"] = config.get('ec2', 'AWS_ACCESS_KEY_ID')\n",
    "os.environ[\"AWS_SECRET_ACCESS_KEY\"] = config.get('ec2', 'AWS_SECRET_ACCESS_KEY')\n",
    "\n",
    "conn = boto.ec2.connect_to_region(REGION)\n",
    "image = conn.get_image(MY_AMI)\n",
    "security_groups = conn.get_all_security_groups()\n",
    "\n",
    "if 'own_ip' not in env:\n",
    "    env.own_ip = get_own_ip()\n",
    "\n",
    "# check ssh access from own IP is allowed\n",
    "try:\n",
    "    [ep_group] = [x for x in security_groups if x.name == SECURITY_GROUP]\n",
    "except ValueError:\n",
    "    pass"
   ]
  },
  {
   "cell_type": "code",
   "execution_count": 74,
   "metadata": {},
   "outputs": [
    {
     "data": {
      "text/plain": [
       "SecurityGroup:default"
      ]
     },
     "execution_count": 74,
     "output_type": "execute_result",
     "metadata": {}
    }
   ],
   "source": [
    "ep_group"
   ]
  },
  {
   "cell_type": "code",
   "execution_count": 79,
   "metadata": {},
   "outputs": [],
   "source": [
    "try:\n",
    "    [own_cidr_ip_grant] = [rule for rule in ep_group.rules if filter(lambda grant: grant.cidr_ip == env.own_ip + '/32', rule.grants)]\n",
    "except ValueError:\n",
    "    print(\n",
    "        'no rule for TCP/22 with own IP %(own_ip)s found in security group: %(sgroup)s' % {'own_ip': env.own_ip,\n",
    "                                                                                           'sgroup': SECURITY_GROUP})\n",
    "    ep_group.authorize('tcp', 22, 22, env.own_ip + '/32')"
   ]
  },
  {
   "cell_type": "code",
   "execution_count": 78,
   "metadata": {},
   "outputs": [
    {
     "name": "stdout",
     "output_type": "stream",
     "text": [
      "found rule for my IP\n",
      "tcp 22 22 [137.222.114.241/32, 62.30.221.21/32]\n"
     ]
    }
   ],
   "source": [
    "for rule in ep_group.rules:\n",
    "    for grant in rule.grants:\n",
    "        if grant.cidr_ip == my_ip+'/32':        \n",
    "            print \"found rule for my IP\"\n",
    "            print rule.ip_protocol, rule.from_port, rule.to_port, rule.grants"
   ]
  },
  {
   "cell_type": "code",
   "execution_count": 80,
   "metadata": {},
   "outputs": [
    {
     "data": {
      "text/plain": [
       "IPPermissions:tcp(22-22)"
      ]
     },
     "execution_count": 80,
     "output_type": "execute_result",
     "metadata": {}
    }
   ],
   "source": [
    "own_cidr_ip_grant"
   ]
  },
  {
   "cell_type": "code",
   "execution_count": 85,
   "metadata": {},
   "outputs": [],
   "source": [
    "try:\n",
    "    [geonode_key] = [x for x in conn.get_all_key_pairs() if x.name == 'ep-host']\n",
    "except ValueError:\n",
    "    # this probably means the key is not defined\n",
    "    # get the first one in the belt for now:\n",
    "    print \"GeoNode file not found in the server\"\n",
    "    geonode_key = conn.get_all_key_pairs()[0]"
   ]
  },
  {
   "cell_type": "code",
   "execution_count": 84,
   "metadata": {},
   "outputs": [
    {
     "name": "stdout",
     "output_type": "stream",
     "text": [
      "ep-host\n"
     ]
    }
   ],
   "source": [
    "for x in conn.get_all_key_pairs():\n",
    "    print x.name"
   ]
  },
  {
   "cell_type": "code",
   "execution_count": 86,
   "metadata": {},
   "outputs": [
    {
     "data": {
      "text/plain": [
       "u'ep-host'"
      ]
     },
     "execution_count": 86,
     "output_type": "execute_result",
     "metadata": {}
    }
   ],
   "source": [
    "geonode_key.name"
   ]
  },
  {
   "cell_type": "code",
   "execution_count": 87,
   "metadata": {},
   "outputs": [
    {
     "name": "stdout",
     "output_type": "stream",
     "text": [
      "Firing up instance\n",
      "pending\n",
      "pending\n",
      "pending\n",
      "pending\n",
      "pending\n",
      "pending\n",
      "pending\n",
      "pending\n",
      "pending\n",
      "running\n",
      "Instance up and running at ec2-52-30-102-56.eu-west-1.compute.amazonaws.com\n",
      "ssh -i ~/.ssh/ep-host.pem ubuntu@ec2-52-30-102-56.eu-west-1.compute.amazonaws.com\n",
      "Terminate the instance via the web interface Instance:i-bdc5a604\n"
     ]
    }
   ],
   "source": [
    "reservation = image.run(security_groups=[ep_group, ], key_name=geonode_key.name, instance_type=INSTANCE_TYPE)\n",
    "instance = reservation.instances[0]\n",
    "\n",
    "print \"Firing up instance\"\n",
    "\n",
    "# Give it 10 minutes to appear online\n",
    "for i in range(120):\n",
    "    time.sleep(5)\n",
    "    instance.update()\n",
    "    print instance.state\n",
    "    if instance.state == \"running\":\n",
    "        break\n",
    "\n",
    "if instance.state == \"running\":\n",
    "    dns = instance.dns_name\n",
    "    print \"Instance up and running at %s\" % dns\n",
    "\n",
    "config.set('ec2', 'HOST', dns)\n",
    "config.set('ec2', 'INSTANCE', instance.id)\n",
    "env.hosts = [dns, ]\n",
    "env.user = config.get('ec2', 'USER')\n",
    "env.key_filename = KEY_PATH\n",
    "with open(CONFIG_FILE, 'wb') as configfile:\n",
    "    config.write(configfile)\n",
    "\n",
    "print \"ssh -i %s ubuntu@%s\" % (KEY_PATH, dns)\n",
    "print \"Terminate the instance via the web interface %s\" % instance"
   ]
  },
  {
   "cell_type": "code",
   "execution_count": 94,
   "metadata": {},
   "outputs": [
    {
     "name": "stdout",
     "output_type": "stream",
     "text": [
      "\n"
     ]
    }
   ],
   "source": [
    "from pprint import pprint"
   ]
  },
  {
   "cell_type": "code",
   "execution_count": 96,
   "metadata": {},
   "outputs": [
    {
     "name": "stdout",
     "output_type": "stream",
     "text": [
      "{'_in_monitoring_element': False,\n",
      " '_placement': eu-west-1a,\n",
      " '_previous_state': None,\n",
      " '_state': stopped(80),\n",
      " 'ami_launch_index': u'0',\n",
      " 'architecture': u'x86_64',\n",
      " 'block_device_mapping': {u'/dev/sda1': <boto.ec2.blockdevicemapping.BlockDeviceType object at 0x103826f50>},\n",
      " 'client_token': u'OUZTi1444991252371',\n",
      " 'connection': EC2Connection:ec2.eu-west-1.amazonaws.com,\n",
      " 'dns_name': '',\n",
      " 'ebs_optimized': False,\n",
      " 'eventsSet': None,\n",
      " 'group_name': None,\n",
      " 'groups': [<boto.ec2.group.Group object at 0x1038837d0>],\n",
      " 'hypervisor': u'xen',\n",
      " 'id': u'i-9bbddd22',\n",
      " 'image_id': u'ami-47a23a30',\n",
      " 'instance_profile': None,\n",
      " 'instance_type': u't2.micro',\n",
      " 'interfaces': [NetworkInterface:eni-ea5a50a3],\n",
      " 'ip_address': None,\n",
      " 'item': u'\\n                ',\n",
      " 'kernel': None,\n",
      " 'key_name': u'ep-host',\n",
      " 'launch_time': u'2015-10-16T15:40:59.000Z',\n",
      " 'monitored': False,\n",
      " 'monitoring': u'\\n                    ',\n",
      " 'monitoring_state': u'disabled',\n",
      " 'persistent': False,\n",
      " 'platform': None,\n",
      " 'private_dns_name': u'ip-172-31-28-190.eu-west-1.compute.internal',\n",
      " 'private_ip_address': u'172.31.28.190',\n",
      " 'product_codes': [],\n",
      " 'public_dns_name': '',\n",
      " 'ramdisk': None,\n",
      " 'reason': u'User initiated (2015-10-16 16:16:47 GMT)',\n",
      " 'region': RegionInfo:eu-west-1,\n",
      " 'requester_id': None,\n",
      " 'root_device_name': u'/dev/sda1',\n",
      " 'root_device_type': u'ebs',\n",
      " 'sourceDestCheck': u'true',\n",
      " 'spot_instance_request_id': None,\n",
      " 'state_reason': {u'code': u'Client.UserInitiatedShutdown',\n",
      "                  u'message': u'Client.UserInitiatedShutdown: User initiated shutdown'},\n",
      " 'subnet_id': u'subnet-87ca84f0',\n",
      " 'tags': {u'Name': u'ep'},\n",
      " 'virtualization_type': u'hvm',\n",
      " 'vpc_id': u'vpc-2e01734b'}\n",
      "{'_in_monitoring_element': False,\n",
      " '_placement': eu-west-1a,\n",
      " '_previous_state': None,\n",
      " '_state': stopped(80),\n",
      " 'ami_launch_index': u'0',\n",
      " 'architecture': u'x86_64',\n",
      " 'block_device_mapping': {u'/dev/sda1': <boto.ec2.blockdevicemapping.BlockDeviceType object at 0x103883d10>},\n",
      " 'client_token': '',\n",
      " 'connection': EC2Connection:ec2.eu-west-1.amazonaws.com,\n",
      " 'dns_name': '',\n",
      " 'ebs_optimized': False,\n",
      " 'eventsSet': None,\n",
      " 'group_name': None,\n",
      " 'groups': [<boto.ec2.group.Group object at 0x103883dd0>],\n",
      " 'hypervisor': u'xen',\n",
      " 'id': u'i-bdc5a604',\n",
      " 'image_id': u'ami-47a23a30',\n",
      " 'instance_profile': None,\n",
      " 'instance_type': u't2.micro',\n",
      " 'interfaces': [NetworkInterface:eni-533e2b1a],\n",
      " 'ip_address': None,\n",
      " 'item': u'\\n                ',\n",
      " 'kernel': None,\n",
      " 'key_name': u'ep-host',\n",
      " 'launch_time': u'2015-10-16T22:06:32.000Z',\n",
      " 'monitored': False,\n",
      " 'monitoring': u'\\n                    ',\n",
      " 'monitoring_state': u'disabled',\n",
      " 'persistent': False,\n",
      " 'platform': None,\n",
      " 'private_dns_name': u'ip-172-31-31-249.eu-west-1.compute.internal',\n",
      " 'private_ip_address': u'172.31.31.249',\n",
      " 'product_codes': [],\n",
      " 'public_dns_name': '',\n",
      " 'ramdisk': None,\n",
      " 'reason': u'User initiated (2015-10-16 22:17:52 GMT)',\n",
      " 'region': RegionInfo:eu-west-1,\n",
      " 'requester_id': None,\n",
      " 'root_device_name': u'/dev/sda1',\n",
      " 'root_device_type': u'ebs',\n",
      " 'sourceDestCheck': u'true',\n",
      " 'spot_instance_request_id': None,\n",
      " 'state_reason': {u'code': u'Client.UserInitiatedShutdown',\n",
      "                  u'message': u'Client.UserInitiatedShutdown: User initiated shutdown'},\n",
      " 'subnet_id': u'subnet-87ca84f0',\n",
      " 'tags': {},\n",
      " 'virtualization_type': u'hvm',\n",
      " 'vpc_id': u'vpc-2e01734b'}\n"
     ]
    }
   ],
   "source": [
    "reservations  = conn.get_all_reservations()\n",
    "for reservation in reservations:    \n",
    "    for i in reservation.instances:\n",
    "        pprint(i.__dict__)"
   ]
  },
  {
   "cell_type": "code",
   "execution_count": 99,
   "metadata": {},
   "outputs": [
    {
     "name": "stdout",
     "output_type": "stream",
     "text": [
      "[Instance:i-9bbddd22]\n"
     ]
    }
   ],
   "source": [
    "reservations = conn.get_all_instances(filters={\"tag:Name\" : \"ep\"})\n",
    "instances = [i for r in reservations for i in r.instances]\n",
    "print instances\n",
    "instance = instances[0]"
   ]
  },
  {
   "cell_type": "code",
   "execution_count": 98,
   "metadata": {},
   "outputs": [
    {
     "name": "stdout",
     "output_type": "stream",
     "text": [
      "Firing up instance\n",
      "stopped\n",
      "stopped\n",
      "stopped\n",
      "stopped\n",
      "stopped\n",
      "stopped\n",
      "stopped\n",
      "stopped\n",
      "stopped\n",
      "stopped\n",
      "stopped\n",
      "stopped\n",
      "stopped\n",
      "stopped\n",
      "stopped\n",
      "stopped\n",
      "stopped\n",
      "stopped\n",
      "stopped\n",
      "stopped\n",
      "stopped\n",
      "stopped\n",
      "stopped\n",
      "stopped\n",
      "stopped\n",
      "stopped\n",
      "stopped\n",
      "stopped\n",
      "stopped\n",
      "stopped\n",
      "stopped\n",
      "stopped\n",
      "stopped\n",
      "stopped\n",
      "stopped\n",
      "stopped\n",
      "stopped\n",
      "stopped\n",
      "stopped\n",
      "stopped\n",
      "stopped\n",
      "stopped\n",
      "stopped\n",
      "stopped\n",
      "stopped\n",
      "stopped\n",
      "stopped\n",
      "stopped\n",
      "stopped\n",
      "stopped\n",
      "stopped\n",
      "stopped\n",
      "stopped\n",
      "stopped\n",
      "stopped\n"
     ]
    },
    {
     "ename": "KeyboardInterrupt",
     "evalue": "",
     "output_type": "error",
     "traceback": [
      "\u001b[0;31m---------------------------------------------------------------------------\u001b[0m",
      "\u001b[0;31mKeyboardInterrupt\u001b[0m                         Traceback (most recent call last)",
      "\u001b[0;32m<ipython-input-98-372dcd515c82>\u001b[0m in \u001b[0;36m<module>\u001b[0;34m()\u001b[0m\n\u001b[1;32m      4\u001b[0m \u001b[0;31m# Give it 10 minutes to appear online\u001b[0m\u001b[0;34m\u001b[0m\u001b[0;34m\u001b[0m\u001b[0m\n\u001b[1;32m      5\u001b[0m \u001b[0;32mfor\u001b[0m \u001b[0mi\u001b[0m \u001b[0;32min\u001b[0m \u001b[0mrange\u001b[0m\u001b[0;34m(\u001b[0m\u001b[0;36m120\u001b[0m\u001b[0;34m)\u001b[0m\u001b[0;34m:\u001b[0m\u001b[0;34m\u001b[0m\u001b[0m\n\u001b[0;32m----> 6\u001b[0;31m     \u001b[0mtime\u001b[0m\u001b[0;34m.\u001b[0m\u001b[0msleep\u001b[0m\u001b[0;34m(\u001b[0m\u001b[0;36m5\u001b[0m\u001b[0;34m)\u001b[0m\u001b[0;34m\u001b[0m\u001b[0m\n\u001b[0m\u001b[1;32m      7\u001b[0m     \u001b[0minstance\u001b[0m\u001b[0;34m.\u001b[0m\u001b[0mupdate\u001b[0m\u001b[0;34m(\u001b[0m\u001b[0;34m)\u001b[0m\u001b[0;34m\u001b[0m\u001b[0m\n\u001b[1;32m      8\u001b[0m     \u001b[0;32mprint\u001b[0m \u001b[0minstance\u001b[0m\u001b[0;34m.\u001b[0m\u001b[0mstate\u001b[0m\u001b[0;34m\u001b[0m\u001b[0m\n",
      "\u001b[0;31mKeyboardInterrupt\u001b[0m: "
     ]
    }
   ],
   "source": [
    "instance.start()\n",
    "print \"Firing up instance\""
   ]
  },
  {
   "cell_type": "code",
   "execution_count": 100,
   "metadata": {},
   "outputs": [
    {
     "name": "stdout",
     "output_type": "stream",
     "text": [
      "running\n",
      "Instance up and running at ec2-52-16-241-174.eu-west-1.compute.amazonaws.com\n"
     ]
    }
   ],
   "source": [
    "# Give it 10 minutes to appear online\n",
    "for i in range(120):\n",
    "    time.sleep(5)\n",
    "    instance.update()\n",
    "    print instance.state\n",
    "    if instance.state == \"running\":\n",
    "        break\n",
    "\n",
    "if instance.state == \"running\":\n",
    "    dns = instance.dns_name\n",
    "    print \"Instance up and running at %s\" % dns"
   ]
  },
  {
   "cell_type": "code",
   "execution_count": 104,
   "metadata": {},
   "outputs": [
    {
     "data": {
      "text/plain": [
       "u'running'"
      ]
     },
     "execution_count": 104,
     "output_type": "execute_result",
     "metadata": {}
    }
   ],
   "source": [
    "instance.state"
   ]
  },
  {
   "cell_type": "code",
   "execution_count": 103,
   "metadata": {},
   "outputs": [],
   "source": [
    "instance.start()"
   ]
  },
  {
   "cell_type": "code",
   "execution_count": 12,
   "metadata": {},
   "outputs": [
    {
     "data": {
      "text/plain": [
       "<Key: ep-static,testkey>"
      ]
     },
     "execution_count": 12,
     "output_type": "execute_result",
     "metadata": {}
    }
   ],
   "source": [
    "access_key = config.get('ec2', 'AWS_ACCESS_KEY_ID')\n",
    "secret_key = config.get('ec2', 'AWS_SECRET_ACCESS_KEY')\n",
    "\n",
    "s3 = boto.connect_s3(access_key, secret_key)\n",
    "bucket = s3.lookup('ep-static')\n",
    "key = bucket.new_key('testkey')\n",
    "key.set_contents_from_string('This is a test')\n",
    "key.exists()\n",
    "key.delete()"
   ]
  },
  {
   "cell_type": "code",
   "execution_count": 13,
   "metadata": {},
   "outputs": [
    {
     "name": "stdout",
     "output_type": "stream",
     "text": [
      "<Bucket: ep-static>\n"
     ]
    }
   ],
   "source": [
    "from boto.s3.connection import S3Connection\n",
    "conn = S3Connection(access_key, secret_key)\n",
    "rs = conn.get_all_buckets()\n",
    "for b in rs:\n",
    "    print b"
   ]
  },
  {
   "cell_type": "code",
   "execution_count": null,
   "metadata": {},
   "outputs": [],
   "source": [
    ""
   ]
  }
 ],
 "metadata": {
  "kernelspec": {
   "display_name": "Python 2",
   "language": "python",
   "name": "python2"
  },
  "language_info": {
   "codemirror_mode": {
    "name": "ipython",
    "version": 2.0
   },
   "file_extension": ".py",
   "mimetype": "text/x-python",
   "name": "python",
   "nbconvert_exporter": "python",
   "pygments_lexer": "ipython2",
   "version": "2.7.9"
  }
 },
 "nbformat": 4,
 "nbformat_minor": 0
}